{
 "cells": [
  {
   "cell_type": "markdown",
   "id": "89f4cb4f",
   "metadata": {},
   "source": [
    "# Galaxies vs quasars with neural networks"
   ]
  },
  {
   "cell_type": "code",
   "execution_count": 3,
   "id": "13b84efb",
   "metadata": {},
   "outputs": [],
   "source": [
    "import numpy as np\n",
    "import matplotlib.pyplot as plt"
   ]
  },
  {
   "cell_type": "code",
   "execution_count": 4,
   "id": "1135edee",
   "metadata": {},
   "outputs": [],
   "source": [
    "import pandas as pd\n",
    "gal_qso = pd.read_csv(\"galaxyquasar.csv\")"
   ]
  },
  {
   "cell_type": "code",
   "execution_count": 5,
   "id": "eade08bc",
   "metadata": {},
   "outputs": [
    {
     "data": {
      "text/html": [
       "<div>\n",
       "<style scoped>\n",
       "    .dataframe tbody tr th:only-of-type {\n",
       "        vertical-align: middle;\n",
       "    }\n",
       "\n",
       "    .dataframe tbody tr th {\n",
       "        vertical-align: top;\n",
       "    }\n",
       "\n",
       "    .dataframe thead th {\n",
       "        text-align: right;\n",
       "    }\n",
       "</style>\n",
       "<table border=\"1\" class=\"dataframe\">\n",
       "  <thead>\n",
       "    <tr style=\"text-align: right;\">\n",
       "      <th></th>\n",
       "      <th>u</th>\n",
       "      <th>g</th>\n",
       "      <th>r</th>\n",
       "      <th>i</th>\n",
       "      <th>z</th>\n",
       "      <th>class</th>\n",
       "      <th>z1</th>\n",
       "      <th>zerr</th>\n",
       "    </tr>\n",
       "  </thead>\n",
       "  <tbody>\n",
       "    <tr>\n",
       "      <th>0</th>\n",
       "      <td>18.97213</td>\n",
       "      <td>18.53676</td>\n",
       "      <td>18.58280</td>\n",
       "      <td>18.34936</td>\n",
       "      <td>18.29215</td>\n",
       "      <td>QSO</td>\n",
       "      <td>0.522819</td>\n",
       "      <td>0.000155</td>\n",
       "    </tr>\n",
       "    <tr>\n",
       "      <th>1</th>\n",
       "      <td>19.24592</td>\n",
       "      <td>17.47646</td>\n",
       "      <td>16.47817</td>\n",
       "      <td>16.04472</td>\n",
       "      <td>15.68851</td>\n",
       "      <td>GALAXY</td>\n",
       "      <td>0.122846</td>\n",
       "      <td>0.000028</td>\n",
       "    </tr>\n",
       "    <tr>\n",
       "      <th>2</th>\n",
       "      <td>19.43536</td>\n",
       "      <td>17.70268</td>\n",
       "      <td>16.91565</td>\n",
       "      <td>16.58327</td>\n",
       "      <td>16.39128</td>\n",
       "      <td>GALAXY</td>\n",
       "      <td>0.000000</td>\n",
       "      <td>0.000000</td>\n",
       "    </tr>\n",
       "    <tr>\n",
       "      <th>3</th>\n",
       "      <td>19.31626</td>\n",
       "      <td>18.18312</td>\n",
       "      <td>17.39591</td>\n",
       "      <td>16.94549</td>\n",
       "      <td>16.65395</td>\n",
       "      <td>GALAXY</td>\n",
       "      <td>0.147435</td>\n",
       "      <td>0.000009</td>\n",
       "    </tr>\n",
       "    <tr>\n",
       "      <th>4</th>\n",
       "      <td>19.28828</td>\n",
       "      <td>19.11188</td>\n",
       "      <td>18.88937</td>\n",
       "      <td>18.80013</td>\n",
       "      <td>18.49183</td>\n",
       "      <td>QSO</td>\n",
       "      <td>2.011455</td>\n",
       "      <td>0.000631</td>\n",
       "    </tr>\n",
       "    <tr>\n",
       "      <th>...</th>\n",
       "      <td>...</td>\n",
       "      <td>...</td>\n",
       "      <td>...</td>\n",
       "      <td>...</td>\n",
       "      <td>...</td>\n",
       "      <td>...</td>\n",
       "      <td>...</td>\n",
       "      <td>...</td>\n",
       "    </tr>\n",
       "    <tr>\n",
       "      <th>49995</th>\n",
       "      <td>19.37295</td>\n",
       "      <td>18.12382</td>\n",
       "      <td>17.39886</td>\n",
       "      <td>16.98503</td>\n",
       "      <td>16.70585</td>\n",
       "      <td>GALAXY</td>\n",
       "      <td>0.113016</td>\n",
       "      <td>0.000011</td>\n",
       "    </tr>\n",
       "    <tr>\n",
       "      <th>49996</th>\n",
       "      <td>18.52021</td>\n",
       "      <td>16.88262</td>\n",
       "      <td>16.03280</td>\n",
       "      <td>15.56884</td>\n",
       "      <td>15.22454</td>\n",
       "      <td>GALAXY</td>\n",
       "      <td>0.085063</td>\n",
       "      <td>0.000014</td>\n",
       "    </tr>\n",
       "    <tr>\n",
       "      <th>49997</th>\n",
       "      <td>18.62718</td>\n",
       "      <td>17.30876</td>\n",
       "      <td>16.87371</td>\n",
       "      <td>16.62399</td>\n",
       "      <td>16.42296</td>\n",
       "      <td>GALAXY</td>\n",
       "      <td>0.054429</td>\n",
       "      <td>0.000008</td>\n",
       "    </tr>\n",
       "    <tr>\n",
       "      <th>49998</th>\n",
       "      <td>19.55140</td>\n",
       "      <td>18.27711</td>\n",
       "      <td>17.62101</td>\n",
       "      <td>17.21947</td>\n",
       "      <td>17.03347</td>\n",
       "      <td>GALAXY</td>\n",
       "      <td>0.112571</td>\n",
       "      <td>0.000009</td>\n",
       "    </tr>\n",
       "    <tr>\n",
       "      <th>49999</th>\n",
       "      <td>18.80772</td>\n",
       "      <td>17.75751</td>\n",
       "      <td>17.40500</td>\n",
       "      <td>17.21650</td>\n",
       "      <td>17.12295</td>\n",
       "      <td>GALAXY</td>\n",
       "      <td>0.043652</td>\n",
       "      <td>0.000007</td>\n",
       "    </tr>\n",
       "  </tbody>\n",
       "</table>\n",
       "<p>50000 rows × 8 columns</p>\n",
       "</div>"
      ],
      "text/plain": [
       "              u         g         r         i         z   class        z1  \\\n",
       "0      18.97213  18.53676  18.58280  18.34936  18.29215     QSO  0.522819   \n",
       "1      19.24592  17.47646  16.47817  16.04472  15.68851  GALAXY  0.122846   \n",
       "2      19.43536  17.70268  16.91565  16.58327  16.39128  GALAXY  0.000000   \n",
       "3      19.31626  18.18312  17.39591  16.94549  16.65395  GALAXY  0.147435   \n",
       "4      19.28828  19.11188  18.88937  18.80013  18.49183     QSO  2.011455   \n",
       "...         ...       ...       ...       ...       ...     ...       ...   \n",
       "49995  19.37295  18.12382  17.39886  16.98503  16.70585  GALAXY  0.113016   \n",
       "49996  18.52021  16.88262  16.03280  15.56884  15.22454  GALAXY  0.085063   \n",
       "49997  18.62718  17.30876  16.87371  16.62399  16.42296  GALAXY  0.054429   \n",
       "49998  19.55140  18.27711  17.62101  17.21947  17.03347  GALAXY  0.112571   \n",
       "49999  18.80772  17.75751  17.40500  17.21650  17.12295  GALAXY  0.043652   \n",
       "\n",
       "           zerr  \n",
       "0      0.000155  \n",
       "1      0.000028  \n",
       "2      0.000000  \n",
       "3      0.000009  \n",
       "4      0.000631  \n",
       "...         ...  \n",
       "49995  0.000011  \n",
       "49996  0.000014  \n",
       "49997  0.000008  \n",
       "49998  0.000009  \n",
       "49999  0.000007  \n",
       "\n",
       "[50000 rows x 8 columns]"
      ]
     },
     "execution_count": 5,
     "metadata": {},
     "output_type": "execute_result"
    }
   ],
   "source": [
    "gal_qso"
   ]
  },
  {
   "cell_type": "code",
   "execution_count": 6,
   "id": "d79e4f7d",
   "metadata": {},
   "outputs": [],
   "source": [
    "import torch\n",
    "import torch.nn as nn\n",
    "import torch.nn.functional as F\n",
    "import torch.utils.data as torchdata"
   ]
  },
  {
   "cell_type": "code",
   "execution_count": 7,
   "id": "26cce1a6",
   "metadata": {},
   "outputs": [],
   "source": [
    "u_g = gal_qso['u']-gal_qso['g']\n",
    "g_r = gal_qso['g']-gal_qso['r']\n",
    "r_i = gal_qso['r']-gal_qso['i']\n",
    "i_z = gal_qso['i']-gal_qso['z']\n",
    "objclass = gal_qso['class']\n",
    "objclass.replace({'GALAXY': 0, 'QSO': 1}, inplace=True)\n",
    "\n",
    "labels = ['u - g', 'g - r', 'r - i', 'i - z']"
   ]
  },
  {
   "cell_type": "code",
   "execution_count": 8,
   "id": "2e2c9ead",
   "metadata": {},
   "outputs": [
    {
     "data": {
      "text/plain": [
       "array([[-1.6009288 , -2.1856372 , -0.50654745, -0.6597535 ,  1.        ],\n",
       "       [ 0.8389048 ,  1.187664  ,  0.41731444,  0.47661117,  0.        ],\n",
       "       [ 0.7716402 ,  0.5052708 , -0.04953586, -0.14751524,  0.        ],\n",
       "       ...,\n",
       "       [ 0.01402617, -0.6316634 , -0.4313488 , -0.11315826,  0.        ],\n",
       "       [-0.06668057,  0.08235241,  0.26991966, -0.17028053,  0.        ],\n",
       "       [-0.47648638, -0.8982767 , -0.7141288 , -0.5216415 ,  0.        ]],\n",
       "      dtype=float32)"
      ]
     },
     "execution_count": 8,
     "metadata": {},
     "output_type": "execute_result"
    }
   ],
   "source": [
    "datanormed = np.zeros((len(gal_qso), 5), dtype=np.float32)\n",
    "datanormed[:,0] = u_g\n",
    "datanormed[:,1] = g_r\n",
    "datanormed[:,2] = r_i\n",
    "datanormed[:,3] = i_z\n",
    "datanormed[:,4] = objclass\n",
    "\n",
    "for i in range(4):\n",
    "    datanormed[:, i] = (datanormed[:,i] - datanormed[:,i].mean()) / datanormed[:,i].std()     # standardization\n",
    "\n",
    "datanormed"
   ]
  },
  {
   "cell_type": "code",
   "execution_count": 13,
   "id": "6601de07",
   "metadata": {},
   "outputs": [],
   "source": [
    "# split data into 7:3 train:test\n",
    "dataset = torchdata.TensorDataset(torch.tensor(datanormed[:, 0:4]),\n",
    "                                  torch.tensor(datanormed[:, 4]).view(-1, 1))\n",
    "trainnum = datanormed.shape[0] // 10 * 7\n",
    "traindata, testdata = torchdata.random_split(dataset, \n",
    "                                             [trainnum, datanormed.shape[0] - trainnum])\n",
    "traindataloader = torchdata.DataLoader(traindata, \n",
    "                                       batch_size=128, \n",
    "                                       shuffle=True)"
   ]
  },
  {
   "cell_type": "code",
   "execution_count": 32,
   "id": "5bf00557",
   "metadata": {},
   "outputs": [],
   "source": [
    "class Net(nn.Module):\n",
    "    def __init__(self, nhidden):\n",
    "        super(Net, self).__init__()\n",
    "        self.fc_h = nn.Linear(4, nhidden)  \n",
    "        self.fc_o = nn.Linear(nhidden, 1)  \n",
    "\n",
    "    def forward(self, x):\n",
    "        x = F.relu(self.fc_h(x))      # ReLU activation function\n",
    "        x = self.fc_o(x)  \n",
    "        return x\n",
    "\n",
    "def train_NN(traindataloader, testdata, traindata):\n",
    "    model = Net(5)                                     # number of neurons: 5\n",
    "    criterion = nn.BCEWithLogitsLoss()  \n",
    "    optimizer = torch.optim.Adam(model.parameters(), lr=0.001)        # adam solver\n",
    "\n",
    "    for t in range(100):\n",
    "        model.train()\n",
    "        train_loss = 0\n",
    "        for colors, labels in traindataloader:\n",
    "            optimizer.zero_grad()\n",
    "            logits = model(colors)\n",
    "            loss = criterion(logits, labels)\n",
    "            loss.backward()\n",
    "            optimizer.step()\n",
    "            train_loss += loss.item()\n",
    "\n",
    "        model.eval()\n",
    "        with torch.no_grad():\n",
    "            val_logits = model(testdata[:][0])\n",
    "            val_labels = testdata[:][1]\n",
    "            val_loss = criterion(val_logits, val_labels)\n",
    "\n",
    "        if t % 10 == 0:\n",
    "            print(f\"Epoch {t:3d}: Train loss {train_loss / len(traindata):.4f}  Val loss {val_loss / len(testdata):.4f}\")\n",
    "\n",
    "    return model\n"
   ]
  },
  {
   "cell_type": "code",
   "execution_count": 33,
   "id": "3855f2b3",
   "metadata": {},
   "outputs": [
    {
     "name": "stdout",
     "output_type": "stream",
     "text": [
      "Epoch   0: Train loss 0.0046  Val loss 0.0000\n",
      "Epoch  10: Train loss 0.0006  Val loss 0.0000\n",
      "Epoch  20: Train loss 0.0005  Val loss 0.0000\n",
      "Epoch  30: Train loss 0.0005  Val loss 0.0000\n",
      "Epoch  40: Train loss 0.0005  Val loss 0.0000\n",
      "Epoch  50: Train loss 0.0005  Val loss 0.0000\n",
      "Epoch  60: Train loss 0.0005  Val loss 0.0000\n",
      "Epoch  70: Train loss 0.0005  Val loss 0.0000\n",
      "Epoch  80: Train loss 0.0005  Val loss 0.0000\n",
      "Epoch  90: Train loss 0.0005  Val loss 0.0000\n"
     ]
    }
   ],
   "source": [
    "model = train_NN(traindataloader, testdata, traindata)"
   ]
  },
  {
   "cell_type": "code",
   "execution_count": 34,
   "id": "58ce567f",
   "metadata": {},
   "outputs": [
    {
     "name": "stdout",
     "output_type": "stream",
     "text": [
      "Net(\n",
      "  (fc_h): Linear(in_features=4, out_features=5, bias=True)\n",
      "  (fc_o): Linear(in_features=5, out_features=1, bias=True)\n",
      ")\n"
     ]
    }
   ],
   "source": [
    "print(model)"
   ]
  },
  {
   "cell_type": "markdown",
   "id": "9cdc6100",
   "metadata": {},
   "source": [
    "### ROC curve"
   ]
  },
  {
   "cell_type": "code",
   "execution_count": 35,
   "id": "d39bf83a",
   "metadata": {},
   "outputs": [],
   "source": [
    "X_train = traindata[:][0].numpy().squeeze()\n",
    "y_train = traindata[:][1].numpy().squeeze()\n",
    "X_test = testdata[:][0]\n",
    "y_test = testdata[:][1].numpy().squeeze()\n",
    "\n",
    "thresholds = np.linspace(0, 1, 1001)[:-1]"
   ]
  },
  {
   "cell_type": "code",
   "execution_count": 36,
   "id": "471d7dc2",
   "metadata": {},
   "outputs": [
    {
     "data": {
      "image/png": "[encoded data removed]",
      "text/plain": [
       "<Figure size 640x480 with 1 Axes>"
      ]
     },
     "metadata": {},
     "output_type": "display_data"
    }
   ],
   "source": [
    "from sklearn.metrics import roc_curve\n",
    "    \n",
    "with torch.no_grad():\n",
    "    logits = model(X_test)\n",
    "    y_prob = torch.sigmoid(logits).numpy().flatten()\n",
    "    \n",
    "fpr, tpr, thresh = roc_curve(y_test, y_prob)\n",
    "\n",
    "fig = plt.figure()\n",
    "ax1 = plt.subplot()\n",
    "\n",
    "ax1.plot(fpr, tpr)\n",
    "\n",
    "ax1.set_xlabel('false positive rate')\n",
    "ax1.set_ylabel('true positive rate')\n",
    "ax1.set_title('ROC curve')\n",
    "ax1.set_xlim(0,0.1)\n",
    "ax1.set_ylim(0.7,1)\n",
    "\n",
    "plt.show()"
   ]
  },
  {
   "cell_type": "markdown",
   "id": "9eaca43b",
   "metadata": {},
   "source": [
    "### Comparison with other classification methods"
   ]
  },
  {
   "cell_type": "code",
   "execution_count": 37,
   "id": "703f8263",
   "metadata": {},
   "outputs": [],
   "source": [
    "from sklearn.discriminant_analysis import LinearDiscriminantAnalysis as LDA\n",
    "from sklearn.discriminant_analysis import QuadraticDiscriminantAnalysis as QDA\n",
    "from astroML.classification import GMMBayes\n",
    "\n",
    "clf = LDA()\n",
    "clf.fit(X_train, y_train)\n",
    "probLDA = clf.predict_proba(X_test)[:,1]\n",
    "for i, t in enumerate(thresholds):\n",
    "    y_pred = (probLDA >= t)\n",
    "    \n",
    "clf = QDA()\n",
    "clf.fit(X_train, y_train)\n",
    "probQDA = clf.predict_proba(X_test)[:,1]\n",
    "for i, t in enumerate(thresholds):\n",
    "    y_pred = (probQDA >= t)\n",
    "    \n",
    "clf = GMMBayes(5, tol=1E-5, covariance_type='full')\n",
    "clf.fit(X_train, y_train)\n",
    "probGMM = clf.predict_proba(X_test)[:,1]\n",
    "for i, t in enumerate(thresholds):\n",
    "    y_pred = (probGMM >= t)"
   ]
  },
  {
   "cell_type": "code",
   "execution_count": 38,
   "id": "963e79c3",
   "metadata": {},
   "outputs": [
    {
     "data": {
      "image/png": "[encoded data removed]",
      "text/plain": [
       "<Figure size 640x480 with 1 Axes>"
      ]
     },
     "metadata": {},
     "output_type": "display_data"
    }
   ],
   "source": [
    "# Plot ROC curves \n",
    "\n",
    "fig = plt.figure()\n",
    "ax1 = plt.subplot()\n",
    "\n",
    "fpr, tpr, thresh = roc_curve(y_test, y_prob)\n",
    "ax1.plot(fpr, tpr, label='DL')\n",
    "\n",
    "fpr, tpr, thresh = roc_curve(y_test, probLDA)\n",
    "ax1.plot(fpr, tpr, label='LDA')\n",
    "\n",
    "fpr, tpr, thresh = roc_curve(y_test, probQDA)\n",
    "ax1.plot(fpr, tpr, label='QDA')\n",
    "\n",
    "fpr, tpr, thresh = roc_curve(y_test, probGMM)\n",
    "ax1.plot(fpr, tpr, label='GMM')\n",
    "\n",
    "ax1.set_xlim(0, 0.1)\n",
    "ax1.set_ylim(0.7, 1)\n",
    "\n",
    "ax1.xaxis.set_major_locator(plt.MaxNLocator(5))\n",
    "ax1.set_xlabel('false positive rate')\n",
    "ax1.set_ylabel('true positive rate')\n",
    "ax1.set_title('ROC curve comparison')\n",
    "ax1.legend(loc=4)\n",
    "\n",
    "plt.show()"
   ]
  },
  {
   "cell_type": "markdown",
   "id": "1607e531",
   "metadata": {},
   "source": [
    "Very similar behaviour, no need for deep learning for this problem."
   ]
  },
  {
   "cell_type": "markdown",
   "id": "b3e96b86",
   "metadata": {},
   "source": [
    "### Optimization of hyperparameters"
   ]
  },
  {
   "cell_type": "code",
   "execution_count": 39,
   "id": "bfa0ede5",
   "metadata": {},
   "outputs": [],
   "source": [
    "from skorch import NeuralNetClassifier\n",
    "from sklearn.model_selection import GridSearchCV\n",
    "from sklearn.datasets import make_classification\n",
    "from skorch import NeuralNetBinaryClassifier"
   ]
  },
  {
   "cell_type": "code",
   "execution_count": 40,
   "id": "97f4d27a",
   "metadata": {},
   "outputs": [],
   "source": [
    "class Net(nn.Module):\n",
    "    def __init__(self, nhidden, nlayers):\n",
    "        super().__init__()\n",
    "        layers = [nn.Linear(4, nhidden), nn.ReLU()]\n",
    "        for _ in range(nlayers - 1):\n",
    "            layers += [nn.Linear(nhidden, nhidden), nn.ReLU()]\n",
    "        layers += [nn.Linear(nhidden, 1)]\n",
    "        self.model = nn.Sequential(*layers)\n",
    "\n",
    "    def forward(self, x):\n",
    "        return self.model(x)"
   ]
  },
  {
   "cell_type": "code",
   "execution_count": 41,
   "id": "e5c50a11",
   "metadata": {
    "scrolled": true
   },
   "outputs": [
    {
     "name": "stdout",
     "output_type": "stream",
     "text": [
      "Best params: {'lr': 0.01, 'max_epochs': 20, 'module__nhidden': 10, 'module__nlayers': 1}\n"
     ]
    }
   ],
   "source": [
    "net = NeuralNetBinaryClassifier(\n",
    "    Net,\n",
    "    module__nhidden=5,\n",
    "    max_epochs=20,\n",
    "    lr=0.001,\n",
    "    iterator_train__shuffle=True,\n",
    "    verbose=0\n",
    ")\n",
    "\n",
    "Nlim = 1000\n",
    "X = X_train[:Nlim]\n",
    "y = y_train[:Nlim]\n",
    "\n",
    "# Grid Search\n",
    "params = {\n",
    "    'lr': [0.01, 0.001, 0.0001],\n",
    "    'max_epochs': [10, 20],\n",
    "    'module__nhidden': [2, 5, 10],\n",
    "    'module__nlayers': [1, 2, 3, 4, 5, 6, 7],\n",
    "}\n",
    "\n",
    "gs = GridSearchCV(net, params, cv=3, scoring='accuracy')\n",
    "gs.fit(X, y)\n",
    "\n",
    "print(\"Best params:\", gs.best_params_)"
   ]
  },
  {
   "cell_type": "code",
   "execution_count": 27,
   "id": "e8db4ce7",
   "metadata": {},
   "outputs": [],
   "source": [
    "class Net(nn.Module):\n",
    "    def __init__(self, nhidden=gs.best_params_['module__nhidden'], n_layers=gs.best_params_['module__nlayers']):\n",
    "        super(Net, self).__init__()\n",
    "        layers = []\n",
    "\n",
    "        # Primo layer (input -> primo hidden)\n",
    "        layers.append(nn.Linear(4, nhidden))\n",
    "        layers.append(nn.ReLU())\n",
    "\n",
    "        # Hidden layers intermedi\n",
    "        for _ in range(n_layers - 1):\n",
    "            layers.append(nn.Linear(nhidden, nhidden))\n",
    "            layers.append(nn.ReLU())\n",
    "\n",
    "        # Layer di output\n",
    "        layers.append(nn.Linear(nhidden, 1))  # output a 1 neurone (logits per BCEWithLogitsLoss)\n",
    "\n",
    "        self.network = nn.Sequential(*layers)\n",
    "\n",
    "    def forward(self, x):\n",
    "        return self.network(x)"
   ]
  },
  {
   "cell_type": "code",
   "execution_count": 49,
   "id": "d32fb6be",
   "metadata": {},
   "outputs": [],
   "source": [
    "def train_NN(traindataloader, testdata, traindata, nhidden=gs.best_params_['module__nhidden'], n_layers=gs.best_params_['module__nlayers']):\n",
    "    model = Net(nhidden, n_layers)\n",
    "    criterion = nn.BCEWithLogitsLoss()\n",
    "    optimizer = torch.optim.Adam(model.parameters(), lr=gs.best_params_['lr'])\n",
    "\n",
    "    for t in range(100):\n",
    "        model.train()\n",
    "        train_loss = 0\n",
    "        for colors, labels in traindataloader:\n",
    "            optimizer.zero_grad()\n",
    "            logits = model(colors)\n",
    "            loss = criterion(logits, labels)\n",
    "            loss.backward()\n",
    "            optimizer.step()\n",
    "            train_loss += loss.item()\n",
    "\n",
    "        model.eval()\n",
    "        with torch.no_grad():\n",
    "            val_logits = model(testdata[:][0])\n",
    "            val_labels = testdata[:][1]\n",
    "            val_loss = criterion(val_logits, val_labels)\n",
    "\n",
    "        if t % 10 == 0:\n",
    "            print(f\"Epoch {t:3d}: Train loss {train_loss / len(traindata):.4f}  Val loss {val_loss / len(testdata):.4f}\")\n",
    "\n",
    "    return model"
   ]
  },
  {
   "cell_type": "code",
   "execution_count": 50,
   "id": "99302508",
   "metadata": {},
   "outputs": [
    {
     "name": "stdout",
     "output_type": "stream",
     "text": [
      "Epoch   0: Train loss 0.0009  Val loss 0.0000\n",
      "Epoch  10: Train loss 0.0005  Val loss 0.0000\n",
      "Epoch  20: Train loss 0.0004  Val loss 0.0000\n",
      "Epoch  30: Train loss 0.0004  Val loss 0.0000\n",
      "Epoch  40: Train loss 0.0004  Val loss 0.0000\n",
      "Epoch  50: Train loss 0.0004  Val loss 0.0000\n",
      "Epoch  60: Train loss 0.0004  Val loss 0.0000\n",
      "Epoch  70: Train loss 0.0004  Val loss 0.0000\n",
      "Epoch  80: Train loss 0.0004  Val loss 0.0000\n",
      "Epoch  90: Train loss 0.0004  Val loss 0.0000\n"
     ]
    }
   ],
   "source": [
    "model = train_NN(traindataloader, testdata, traindata)"
   ]
  },
  {
   "cell_type": "code",
   "execution_count": 51,
   "id": "e92d3034",
   "metadata": {},
   "outputs": [
    {
     "data": {
      "image/png": "[encoded data removed]",
      "text/plain": [
       "<Figure size 640x480 with 1 Axes>"
      ]
     },
     "metadata": {},
     "output_type": "display_data"
    }
   ],
   "source": [
    "from sklearn.metrics import roc_curve\n",
    "    \n",
    "with torch.no_grad():\n",
    "    logits = model(X_test)\n",
    "    y_prob_ = torch.sigmoid(logits).numpy().flatten()\n",
    "    \n",
    "fpr_, tpr_, thresh_ = roc_curve(y_test, y_prob_)\n",
    "\n",
    "fig = plt.figure()\n",
    "ax1 = plt.subplot()\n",
    "\n",
    "ax1.plot(fpr_, tpr_, label='best')\n",
    "ax1.plot(fpr, tpr, label='old')\n",
    "\n",
    "ax1.set_xlabel('false positive rate')\n",
    "ax1.set_ylabel('true positive rate')\n",
    "ax1.set_title('ROC curve')\n",
    "ax1.set_xlim(0,0.1)\n",
    "ax1.set_ylim(0.7,1)\n",
    "plt.legend()\n",
    "\n",
    "plt.show()"
   ]
  },
  {
   "cell_type": "markdown",
   "id": "b5aaf244",
   "metadata": {},
   "source": [
    "The ROC curve with the optimal parameters is a little bit closer to the top left corner than the previous one. Let's see how it improves the classification with respect to the other methods."
   ]
  },
  {
   "cell_type": "code",
   "execution_count": 53,
   "id": "48175b1d",
   "metadata": {},
   "outputs": [
    {
     "data": {
      "image/png": "[encoded data removed]",
      "text/plain": [
       "<Figure size 640x480 with 1 Axes>"
      ]
     },
     "metadata": {},
     "output_type": "display_data"
    }
   ],
   "source": [
    "# Plot ROC curves \n",
    "\n",
    "fig = plt.figure()\n",
    "ax1 = plt.subplot()\n",
    "\n",
    "ax1.plot(fpr_, tpr_, label='DL')\n",
    "\n",
    "fpr, tpr, thresh = roc_curve(y_test, probLDA)\n",
    "ax1.plot(fpr, tpr, label='LDA')\n",
    "\n",
    "fpr, tpr, thresh = roc_curve(y_test, probQDA)\n",
    "ax1.plot(fpr, tpr, label='QDA')\n",
    "\n",
    "fpr, tpr, thresh = roc_curve(y_test, probGMM)\n",
    "ax1.plot(fpr, tpr, label='GMM')\n",
    "\n",
    "ax1.set_xlim(0, 0.1)\n",
    "ax1.set_ylim(0.7, 1)\n",
    "\n",
    "ax1.xaxis.set_major_locator(plt.MaxNLocator(5))\n",
    "ax1.set_xlabel('false positive rate')\n",
    "ax1.set_ylabel('true positive rate')\n",
    "ax1.set_title('ROC curve comparison')\n",
    "ax1.legend(loc=4)\n",
    "\n",
    "plt.show()"
   ]
  },
  {
   "cell_type": "code",
   "execution_count": null,
   "id": "bf683f71",
   "metadata": {},
   "outputs": [],
   "source": []
  }
 ],
 "metadata": {
  "kernelspec": {
   "display_name": "Python 3 (ipykernel)",
   "language": "python",
   "name": "python3"
  },
  "language_info": {
   "codemirror_mode": {
    "name": "ipython",
    "version": 3
   },
   "file_extension": ".py",
   "mimetype": "text/x-python",
   "name": "python",
   "nbconvert_exporter": "python",
   "pygments_lexer": "ipython3",
   "version": "3.10.6"
  }
 },
 "nbformat": 4,
 "nbformat_minor": 5
}
